{
 "cells": [
  {
   "cell_type": "markdown",
   "metadata": {},
   "source": [
    "First Example for two independent variables"
   ]
  },
  {
   "cell_type": "code",
   "execution_count": null,
   "metadata": {},
   "outputs": [],
   "source": [
    "import numpy as np\n",
    "import matplotlib.pyplot as plt\n",
    "\n",
    "N = 50\n",
    "x1 = np.random.randn(N)\n",
    "x2 = np.random.randn(N)\n",
    "\n",
    "y = 3 * x1 + 0.5 * x2\n",
    "\n",
    "w1 = np.sum(y * x1) / np.sum(x1 * x1)\n",
    "w2 = np.sum(y * x2) / np.sum(x2 * x2)\n",
    "\n",
    "print(w1, w2)\n",
    "pred = w1 * x1 + w2 * x2\n",
    "plt.plot(y)\n",
    "plt.plot(pred)\n",
    "plt.legend(['y', 'pred'])\n",
    "plt.show()\n",
    "\n",
    "\n"
   ]
  },
  {
   "cell_type": "markdown",
   "metadata": {},
   "source": [
    "Example with two correlated variables"
   ]
  },
  {
   "cell_type": "code",
   "execution_count": null,
   "metadata": {},
   "outputs": [],
   "source": [
    "import numpy as np\n",
    "import matplotlib.pyplot as plt\n",
    "\n",
    "N = 50\n",
    "x1 = np.random.randn(N)\n",
    "x2 = x1 + np.random.randn(N)\n",
    "\n",
    "y = 3 * x1 + 0.5 * x2\n",
    "\n",
    "w1 = np.sum(y * x1) / np.sum(x1 * x1)\n",
    "w2 = np.sum(y * x2) / np.sum(x2 * x2)\n",
    "\n",
    "print(w1, w2)\n",
    "pred = w1 * x1 + w2 * x2\n",
    "plt.plot(y)\n",
    "plt.plot(pred)\n",
    "plt.legend(['y', 'pred'])\n",
    "plt.show()"
   ]
  },
  {
   "cell_type": "markdown",
   "metadata": {},
   "source": [
    "Solution for Correlated variables"
   ]
  },
  {
   "cell_type": "code",
   "execution_count": null,
   "metadata": {},
   "outputs": [],
   "source": [
    "import numpy as np\n",
    "import matplotlib.pyplot as plt\n",
    "\n",
    "N = 50\n",
    "x1 = np.random.randn(N)\n",
    "x2 = x1 + np.random.randn(N)\n",
    "\n",
    "y = 3 * x1 + 0.5 * x2\n",
    "\n",
    "# wx = x2 effect on x1\n",
    "wx = np.sum(x1 * x2) / np.sum(x2 * x2)\n",
    "#ex1 = x1 without x2 effect\n",
    "ex1 = x1 - wx * x2\n",
    "w1 = np.sum(y * ex1) / np.sum(ex1 * ex1)\n",
    "\n",
    "wx = np.sum(x2 * x1) / np.sum(x1 * x1)\n",
    "ex2 = x2 - wx * x1\n",
    "w2 = np.sum(y * ex2) / np.sum(ex2 * ex2)\n",
    "\n",
    "print(w1, w2)\n",
    "pred = w1 * x1 + w2 * x2\n",
    "plt.plot(y)\n",
    "plt.plot(pred)\n",
    "plt.legend(['y', 'pred'])\n",
    "plt.show()"
   ]
  },
  {
   "cell_type": "markdown",
   "metadata": {},
   "source": [
    "study on solution"
   ]
  },
  {
   "cell_type": "code",
   "execution_count": 87,
   "metadata": {},
   "outputs": [
    {
     "name": "stdout",
     "output_type": "stream",
     "text": [
      "Effect of x2 on x1 = 0.16292514512746\n",
      "Effect of x1 on x2 = 0.1028177401505337\n",
      "solution: w1 = 2.9999999999999996, w2 = 0.4999999999999999\n"
     ]
    }
   ],
   "source": [
    "import numpy as np\n",
    "import matplotlib.pyplot as plt\n",
    "\n",
    "N = 50\n",
    "\n",
    "x1 = np.random.randn(N)\n",
    "# create x2 independent or correlated from x1 \n",
    "x2 = np.random.randn(N)\n",
    "\n",
    "y = 3 * x1 + 0.5 * x2\n",
    "\n",
    "# wx = x2 effect on x1\n",
    "wx = np.sum(x1 * x2) / np.sum(x2 * x2)\n",
    "print(f\"Effect of x2 on x1 = {wx}\")\n",
    "#ex1 = x1 without x2 effect\n",
    "ex1 = x1 - wx * x2\n",
    "w1 = np.sum(y * ex1) / np.sum(ex1 * ex1)\n",
    "\n",
    "wx = np.sum(x2 * x1) / np.sum(x1 * x1)\n",
    "print(f\"Effect of x1 on x2 = {wx}\")\n",
    "ex2 = x2 - wx * x1\n",
    "w2 = np.sum(y * ex2) / np.sum(ex2 * ex2)\n",
    "print(f\"solution: w1 = {w1}, w2 = {w2}\")"
   ]
  },
  {
   "cell_type": "markdown",
   "metadata": {},
   "source": [
    "Bigger Example"
   ]
  },
  {
   "cell_type": "code",
   "execution_count": 13,
   "metadata": {},
   "outputs": [
    {
     "name": "stdout",
     "output_type": "stream",
     "text": [
      "[[-0.59398141  0.50137293  0.61210177 -0.12765077  1.08017439]\n",
      " [ 2.67033214 -1.0862383  -0.51307329  0.4348522   1.98618431]]\n",
      "[0.68815595 0.18133804]\n",
      "[ 0.07548096  0.14804644  0.32818177 -0.00898839  1.10349921]\n"
     ]
    }
   ],
   "source": [
    "import numpy as np\n",
    "import matplotlib.pyplot as plt\n",
    "\n",
    "N = 5\n",
    "M = 2\n",
    "xs = np.random.randn(M, N)\n",
    "print(xs)\n",
    "ws = np.random.randn(M)\n",
    "print(ws)\n",
    "ys = np.dot(ws, xs)\n",
    "print(ys)\n",
    "\n"
   ]
  }
 ],
 "metadata": {
  "kernelspec": {
   "display_name": "base",
   "language": "python",
   "name": "python3"
  },
  "language_info": {
   "codemirror_mode": {
    "name": "ipython",
    "version": 3
   },
   "file_extension": ".py",
   "mimetype": "text/x-python",
   "name": "python",
   "nbconvert_exporter": "python",
   "pygments_lexer": "ipython3",
   "version": "3.10.7"
  },
  "orig_nbformat": 4
 },
 "nbformat": 4,
 "nbformat_minor": 2
}
