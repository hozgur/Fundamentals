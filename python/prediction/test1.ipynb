{
 "cells": [
  {
   "cell_type": "markdown",
   "metadata": {},
   "source": [
    "First Example for two independent variables"
   ]
  },
  {
   "cell_type": "code",
   "execution_count": null,
   "metadata": {},
   "outputs": [],
   "source": [
    "import numpy as np\n",
    "import matplotlib.pyplot as plt\n",
    "\n",
    "N = 50\n",
    "x1 = np.random.randn(N)\n",
    "x2 = np.random.randn(N)\n",
    "\n",
    "y = 3 * x1 + 0.5 * x2\n",
    "\n",
    "w1 = np.sum(y * x1) / np.sum(x1 * x1)\n",
    "w2 = np.sum(y * x2) / np.sum(x2 * x2)\n",
    "\n",
    "print(w1, w2)\n",
    "pred = w1 * x1 + w2 * x2\n",
    "plt.plot(y)\n",
    "plt.plot(pred)\n",
    "plt.legend(['y', 'pred'])\n",
    "plt.show()\n",
    "\n",
    "\n"
   ]
  },
  {
   "cell_type": "markdown",
   "metadata": {},
   "source": [
    "Example with two correlated variables"
   ]
  },
  {
   "cell_type": "code",
   "execution_count": null,
   "metadata": {},
   "outputs": [],
   "source": [
    "import numpy as np\n",
    "import matplotlib.pyplot as plt\n",
    "\n",
    "N = 50\n",
    "x1 = np.random.randn(N)\n",
    "x2 = x1 + np.random.randn(N)\n",
    "\n",
    "y = 3 * x1 + 0.5 * x2\n",
    "\n",
    "w1 = np.sum(y * x1) / np.sum(x1 * x1)\n",
    "w2 = np.sum(y * x2) / np.sum(x2 * x2)\n",
    "\n",
    "print(w1, w2)\n",
    "pred = w1 * x1 + w2 * x2\n",
    "plt.plot(y)\n",
    "plt.plot(pred)\n",
    "plt.legend(['y', 'pred'])\n",
    "plt.show()"
   ]
  },
  {
   "cell_type": "markdown",
   "metadata": {},
   "source": [
    "Solution for Correlated variables"
   ]
  },
  {
   "cell_type": "code",
   "execution_count": null,
   "metadata": {},
   "outputs": [],
   "source": [
    "import numpy as np\n",
    "import matplotlib.pyplot as plt\n",
    "\n",
    "N = 50\n",
    "x1 = np.random.randn(N)\n",
    "x2 = x1 + np.random.randn(N)\n",
    "\n",
    "y = 3 * x1 + 0.5 * x2\n",
    "\n",
    "wx = np.sum(x1 * x2) / np.sum(x2 * x2)\n",
    "ex1 = x1 - wx * x2\n",
    "w1 = np.sum(y * ex1) / np.sum(ex1 * ex1)\n",
    "\n",
    "wx = np.sum(x2 * x1) / np.sum(x1 * x1)\n",
    "ex2 = x2 - wx * x1\n",
    "w2 = np.sum(y * ex2) / np.sum(ex2 * ex2)\n",
    "\n",
    "print(w1, w2)\n",
    "pred = w1 * x1 + w2 * x2\n",
    "plt.plot(y)\n",
    "plt.plot(pred)\n",
    "plt.legend(['y', 'pred'])\n",
    "plt.show()"
   ]
  }
 ],
 "metadata": {
  "kernelspec": {
   "display_name": "base",
   "language": "python",
   "name": "python3"
  },
  "language_info": {
   "codemirror_mode": {
    "name": "ipython",
    "version": 3
   },
   "file_extension": ".py",
   "mimetype": "text/x-python",
   "name": "python",
   "nbconvert_exporter": "python",
   "pygments_lexer": "ipython3",
   "version": "3.11.4"
  },
  "orig_nbformat": 4
 },
 "nbformat": 4,
 "nbformat_minor": 2
}
