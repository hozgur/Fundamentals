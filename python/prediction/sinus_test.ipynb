{
 "cells": [
  {
   "cell_type": "code",
   "execution_count": null,
   "metadata": {},
   "outputs": [],
   "source": [
    "import numpy as np\n",
    "import matplotlib.pyplot as plt\n",
    "\n",
    "wavelength = 50\n",
    "f = 1 / wavelength\n",
    "N = 50      # number of samples\n",
    "nr = 0.01   # noise ratio \n",
    "amp = 1     # amplitude\n",
    "\n",
    "t1 = np.arange(0, N*f, f)\n",
    "x1 = np.sin(2* np.pi *t1)\n",
    "x2 = np.random.randn(N)\n",
    "#noise = np.random.rand(N)\n",
    "\n",
    "y = amp * x1 + nr * x2\n",
    "\n",
    "w1 = np.sum(y * x1) / np.sum(x1 * x1)\n",
    "w2 = np.sum(y * x2) / np.sum(x2 * x2)\n",
    "\n",
    "print(w1, w2)\n",
    "pred = w1 * x1 + w2 * x2\n",
    "plt.plot(y)\n",
    "plt.plot(pred)\n",
    "plt.legend(['y', 'pred'])\n",
    "plt.show()"
   ]
  }
 ],
 "metadata": {
  "kernelspec": {
   "display_name": "base",
   "language": "python",
   "name": "python3"
  },
  "language_info": {
   "codemirror_mode": {
    "name": "ipython",
    "version": 3
   },
   "file_extension": ".py",
   "mimetype": "text/x-python",
   "name": "python",
   "nbconvert_exporter": "python",
   "pygments_lexer": "ipython3",
   "version": "3.11.4"
  },
  "orig_nbformat": 4
 },
 "nbformat": 4,
 "nbformat_minor": 2
}
