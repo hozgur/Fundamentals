{
 "cells": [
  {
   "cell_type": "code",
   "execution_count": 9,
   "metadata": {},
   "outputs": [],
   "source": [
    "from uuid import uuid4\n",
    "class Session():\n",
    "    current_session = uuid4()\n",
    "    def __init__(self):\n",
    "        self.id = 0\n",
    "\n"
   ]
  },
  {
   "cell_type": "code",
   "execution_count": 14,
   "metadata": {},
   "outputs": [
    {
     "name": "stdout",
     "output_type": "stream",
     "text": [
      "95bb51cb-8681-4789-93ad-a0935993cfe5\n",
      "95bb51cb-8681-4789-93ad-a0935993cfe5\n",
      "0\n"
     ]
    }
   ],
   "source": [
    "print (Session.current_session)\n",
    "\n",
    "sess = Session()\n",
    "sess2 = Session()\n",
    "\n",
    "print(sess.current_session)\n",
    "sess.current_session = 0\n",
    "\n",
    "print(sess.current_session)"
   ]
  }
 ],
 "metadata": {
  "kernelspec": {
   "display_name": "base",
   "language": "python",
   "name": "python3"
  },
  "language_info": {
   "codemirror_mode": {
    "name": "ipython",
    "version": 3
   },
   "file_extension": ".py",
   "mimetype": "text/x-python",
   "name": "python",
   "nbconvert_exporter": "python",
   "pygments_lexer": "ipython3",
   "version": "3.11.4"
  },
  "orig_nbformat": 4
 },
 "nbformat": 4,
 "nbformat_minor": 2
}
