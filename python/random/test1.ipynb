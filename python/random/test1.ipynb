{
 "cells": [
  {
   "cell_type": "code",
   "execution_count": null,
   "metadata": {},
   "outputs": [],
   "source": [
    "!pip install plotly\n",
    "!pip install nbformat --upgrade"
   ]
  },
  {
   "cell_type": "code",
   "execution_count": null,
   "metadata": {},
   "outputs": [],
   "source": [
    "import numpy as np\n",
    "# Generate 1000 random numbers\n",
    "random_numbers = np.random.rand(1000)\n",
    "np.save('random_numbers_1000.npy', random_numbers)"
   ]
  },
  {
   "cell_type": "code",
   "execution_count": null,
   "metadata": {},
   "outputs": [],
   "source": [
    "import plotly.graph_objects as go\n",
    "import numpy as np\n",
    "\n",
    "random_numbers = np.load('random_numbers_1000.npy')\n",
    "# Create a line graph with Plotly\n",
    "fig = go.Figure()\n",
    "\n",
    "fig.add_trace(go.Scatter(\n",
    "    x=list(range(1000)),\n",
    "    y=random_numbers,\n",
    "    mode='lines',  # Use 'lines' mode for a line graph\n",
    "    line=dict(color='blue')\n",
    "))\n",
    "\n",
    "fig.update_layout(\n",
    "    title='Interactive Line Graph of 1000 Random Numbers',\n",
    "    xaxis_title='Index',\n",
    "    yaxis_title='Random Number',\n",
    "    xaxis=dict(\n",
    "        rangeslider=dict(visible=True),  # Adding a range slider for the x-axis\n",
    "        type=\"linear\"\n",
    "    ),\n",
    "    yaxis=dict(fixedrange=True),  # Fix the y-axis to prevent zooming\n",
    "    showlegend=False\n",
    ")\n",
    "\n",
    "fig.show()\n"
   ]
  }
 ],
 "metadata": {
  "kernelspec": {
   "display_name": "base",
   "language": "python",
   "name": "python3"
  },
  "language_info": {
   "codemirror_mode": {
    "name": "ipython",
    "version": 3
   },
   "file_extension": ".py",
   "mimetype": "text/x-python",
   "name": "python",
   "nbconvert_exporter": "python",
   "pygments_lexer": "ipython3",
   "version": "3.12.2"
  }
 },
 "nbformat": 4,
 "nbformat_minor": 2
}
