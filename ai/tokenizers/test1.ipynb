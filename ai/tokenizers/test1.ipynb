{
 "cells": [
  {
   "cell_type": "markdown",
   "metadata": {},
   "source": [
    "# Tokenizers"
   ]
  },
  {
   "cell_type": "markdown",
   "metadata": {},
   "source": [
    "BertTokenizer"
   ]
  },
  {
   "cell_type": "code",
   "execution_count": 2,
   "metadata": {},
   "outputs": [
    {
     "name": "stderr",
     "output_type": "stream",
     "text": [
      "/opt/homebrew/Caskroom/miniconda/base/envs/pytorch/lib/python3.11/site-packages/tqdm/auto.py:21: TqdmWarning: IProgress not found. Please update jupyter and ipywidgets. See https://ipywidgets.readthedocs.io/en/stable/user_install.html\n",
      "  from .autonotebook import tqdm as notebook_tqdm\n"
     ]
    }
   ],
   "source": [
    "from transformers import BertTokenizer, BertForQuestionAnswering\n",
    "tokenizer = BertTokenizer.from_pretrained('bert-large-uncased-whole-word-masking-finetuned-squad')"
   ]
  },
  {
   "cell_type": "markdown",
   "metadata": {},
   "source": [
    "Bert Turkish Tokenizer"
   ]
  },
  {
   "cell_type": "code",
   "execution_count": 3,
   "metadata": {},
   "outputs": [],
   "source": [
    "from transformers import BertTokenizer, BertForQuestionAnswering\n",
    "tokenizer_tr = BertTokenizer.from_pretrained('dbmdz/bert-base-turkish-cased')"
   ]
  },
  {
   "cell_type": "code",
   "execution_count": 7,
   "metadata": {},
   "outputs": [
    {
     "name": "stdout",
     "output_type": "stream",
     "text": [
      "Bert ******************************************\n",
      "inputs.input_ids: [101, 3841, 5714, 19021, 11722, 2213, 12311, 2368, 12943, 2099, 11722, 7677, 2099, 1029, 102]\n",
      "tokens: ['[CLS]', 'ben', '##im', 'bas', '##ı', '##m', 'ned', '##en', 'ag', '##r', '##ı', '##yo', '##r', '?', '[SEP]']\n",
      "[CLS] benim basım neden agrıyor? [SEP]\n",
      "Turkish Bert ***********************************\n",
      "inputs_tr.input_ids: [2, 4207, 8010, 1027, 2441, 7106, 2057, 35, 3]\n",
      "tokens: ['[CLS]', 'Benim', 'başı', '##m', 'neden', 'ağrı', '##yor', '?', '[SEP]']\n",
      "[CLS] Benim başım neden ağrıyor? [SEP]\n"
     ]
    }
   ],
   "source": [
    "question = \"Benim başım neden ağrıyor?\"\n",
    "context = \"Bu baş agrısının nedeni büyük olasılıkla strestir.\"\n",
    "\n",
    "inputs = tokenizer.encode_plus(question)\n",
    "print(\"Bert ******************************************\")\n",
    "print(\"inputs.input_ids:\", inputs.input_ids)\n",
    "print(\"tokens:\",tokenizer.convert_ids_to_tokens(inputs.input_ids))\n",
    "outstr = tokenizer.decode(inputs.input_ids)\n",
    "print(outstr)\n",
    "print(\"Turkish Bert ***********************************\")\n",
    "inputs_tr = tokenizer_tr.encode_plus(question)\n",
    "print(\"inputs_tr.input_ids:\", inputs_tr.input_ids)\n",
    "print(\"tokens:\",tokenizer_tr.convert_ids_to_tokens(inputs_tr.input_ids))\n",
    "outstr = tokenizer_tr.decode(inputs_tr.input_ids)\n",
    "print(outstr)"
   ]
  },
  {
   "cell_type": "code",
   "execution_count": null,
   "metadata": {},
   "outputs": [],
   "source": [
    "question = \"Benim başım neden ağrıyor?\"\n",
    "answer = \"Bu baş agrısının nedeni büyük olasılıkla strestir.\"\n",
    "\n",
    "out = tokenizer.encode(question)\n",
    "print(\"Lenght of out: \", len(out))\n",
    "print(out)\n",
    "print(tokenizer.convert_ids_to_tokens(out))\n"
   ]
  },
  {
   "cell_type": "code",
   "execution_count": null,
   "metadata": {},
   "outputs": [],
   "source": [
    "vocab = tokenizer.get_vocab()\n",
    "print(len(vocab))"
   ]
  },
  {
   "cell_type": "code",
   "execution_count": null,
   "metadata": {},
   "outputs": [],
   "source": [
    "import tiktoken\n",
    "\n",
    "enc = tiktoken.get_encoding(\"gpt2\")\n",
    "train_ids = enc.encode(question)\n",
    "print(\"Lenght of train_ids: \", len(train_ids))\n",
    "print(train_ids)\n",
    "print(enc.decode(train_ids))\n"
   ]
  }
 ],
 "metadata": {
  "kernelspec": {
   "display_name": "pytorch",
   "language": "python",
   "name": "python3"
  },
  "language_info": {
   "codemirror_mode": {
    "name": "ipython",
    "version": 3
   },
   "file_extension": ".py",
   "mimetype": "text/x-python",
   "name": "python",
   "nbconvert_exporter": "python",
   "pygments_lexer": "ipython3",
   "version": "3.1.0"
  },
  "orig_nbformat": 4
 },
 "nbformat": 4,
 "nbformat_minor": 2
}
