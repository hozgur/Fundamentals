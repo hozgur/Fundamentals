{
 "cells": [
  {
   "cell_type": "markdown",
   "metadata": {},
   "source": [
    "# Tokenizers"
   ]
  },
  {
   "cell_type": "markdown",
   "metadata": {},
   "source": [
    "BertTokenizer"
   ]
  },
  {
   "cell_type": "code",
   "execution_count": 20,
   "metadata": {},
   "outputs": [
    {
     "name": "stderr",
     "output_type": "stream",
     "text": [
      "Some weights of the model checkpoint at bert-large-uncased-whole-word-masking-finetuned-squad were not used when initializing BertForQuestionAnswering: ['bert.pooler.dense.bias', 'bert.pooler.dense.weight']\n",
      "- This IS expected if you are initializing BertForQuestionAnswering from the checkpoint of a model trained on another task or with another architecture (e.g. initializing a BertForSequenceClassification model from a BertForPreTraining model).\n",
      "- This IS NOT expected if you are initializing BertForQuestionAnswering from the checkpoint of a model that you expect to be exactly identical (initializing a BertForSequenceClassification model from a BertForSequenceClassification model).\n"
     ]
    }
   ],
   "source": [
    "from transformers import BertTokenizer, BertForQuestionAnswering\n",
    "tokenizer = BertTokenizer.from_pretrained('bert-large-uncased-whole-word-masking-finetuned-squad')"
   ]
  },
  {
   "cell_type": "markdown",
   "metadata": {},
   "source": [
    "Bert Turkish Tokenizer"
   ]
  },
  {
   "cell_type": "code",
   "execution_count": 3,
   "metadata": {},
   "outputs": [
    {
     "name": "stderr",
     "output_type": "stream",
     "text": [
      "Some weights of BertForQuestionAnswering were not initialized from the model checkpoint at dbmdz/bert-base-turkish-cased and are newly initialized: ['qa_outputs.bias', 'qa_outputs.weight']\n",
      "You should probably TRAIN this model on a down-stream task to be able to use it for predictions and inference.\n"
     ]
    }
   ],
   "source": [
    "from transformers import BertTokenizer, BertForQuestionAnswering\n",
    "tokenizer = BertTokenizer.from_pretrained('dbmdz/bert-base-turkish-cased')\n",
    "model = BertForQuestionAnswering.from_pretrained('dbmdz/bert-base-turkish-cased')"
   ]
  },
  {
   "cell_type": "code",
   "execution_count": 4,
   "metadata": {},
   "outputs": [
    {
     "name": "stdout",
     "output_type": "stream",
     "text": [
      "{'input_ids': tensor([[    2,  4207,  8010,  1027,  2441,  7106,  2057,    35,     3,  2123,\n",
      "          2081, 10789,  2433,  9203,  5865,  2368, 23895, 10000,  2112,    18,\n",
      "             3]]), 'token_type_ids': tensor([[0, 0, 0, 0, 0, 0, 0, 0, 0, 1, 1, 1, 1, 1, 1, 1, 1, 1, 1, 1, 1]]), 'attention_mask': tensor([[1, 1, 1, 1, 1, 1, 1, 1, 1, 1, 1, 1, 1, 1, 1, 1, 1, 1, 1, 1, 1]])}\n",
      "[CLS] Benim başım neden ağrıyor ? [SEP] Bu baş agrısının nedeni büyük olasılıkla strestir . [SEP]\n"
     ]
    },
    {
     "ename": "NameError",
     "evalue": "name 'torch' is not defined",
     "output_type": "error",
     "traceback": [
      "\u001b[1;31m---------------------------------------------------------------------------\u001b[0m",
      "\u001b[1;31mNameError\u001b[0m                                 Traceback (most recent call last)",
      "\u001b[1;32mf:\\dev\\Fundamentals\\ai\\tokenizers\\test1.ipynb Cell 6\u001b[0m line \u001b[0;36m9\n\u001b[0;32m      <a href='vscode-notebook-cell:/f%3A/dev/Fundamentals/ai/tokenizers/test1.ipynb#W5sZmlsZQ%3D%3D?line=6'>7</a>\u001b[0m check \u001b[39m=\u001b[39m tokenizer\u001b[39m.\u001b[39mconvert_tokens_to_string(tokenizer\u001b[39m.\u001b[39mconvert_ids_to_tokens(inputs[\u001b[39m'\u001b[39m\u001b[39minput_ids\u001b[39m\u001b[39m'\u001b[39m][\u001b[39m0\u001b[39m]))\n\u001b[0;32m      <a href='vscode-notebook-cell:/f%3A/dev/Fundamentals/ai/tokenizers/test1.ipynb#W5sZmlsZQ%3D%3D?line=7'>8</a>\u001b[0m \u001b[39mprint\u001b[39m(check)\n\u001b[1;32m----> <a href='vscode-notebook-cell:/f%3A/dev/Fundamentals/ai/tokenizers/test1.ipynb#W5sZmlsZQ%3D%3D?line=8'>9</a>\u001b[0m start_pos \u001b[39m=\u001b[39m torch\u001b[39m.\u001b[39margmax(outputs\u001b[39m.\u001b[39mstart_logits)\n\u001b[0;32m     <a href='vscode-notebook-cell:/f%3A/dev/Fundamentals/ai/tokenizers/test1.ipynb#W5sZmlsZQ%3D%3D?line=9'>10</a>\u001b[0m end_pos \u001b[39m=\u001b[39m torch\u001b[39m.\u001b[39margmax(outputs\u001b[39m.\u001b[39mend_logits)\n\u001b[0;32m     <a href='vscode-notebook-cell:/f%3A/dev/Fundamentals/ai/tokenizers/test1.ipynb#W5sZmlsZQ%3D%3D?line=10'>11</a>\u001b[0m answer \u001b[39m=\u001b[39m tokenizer\u001b[39m.\u001b[39mconvert_tokens_to_string(tokenizer\u001b[39m.\u001b[39mconvert_ids_to_tokens(inputs[\u001b[39m'\u001b[39m\u001b[39minput_ids\u001b[39m\u001b[39m'\u001b[39m][\u001b[39m0\u001b[39m][start_pos:end_pos\u001b[39m+\u001b[39m\u001b[39m1\u001b[39m]))\n",
      "\u001b[1;31mNameError\u001b[0m: name 'torch' is not defined"
     ]
    }
   ],
   "source": [
    "question = \"Benim başım neden ağrıyor?\"\n",
    "context = \"Bu baş agrısının nedeni büyük olasılıkla strestir.\"\n",
    "\n",
    "inputs = tokenizer(question, context, return_tensors='pt')\n",
    "print(inputs)\n",
    "outputs = model(**inputs)\n",
    "check = tokenizer.convert_tokens_to_string(tokenizer.convert_ids_to_tokens(inputs['input_ids'][0]))\n",
    "print(check)\n",
    "start_pos = torch.argmax(outputs.start_logits)\n",
    "end_pos = torch.argmax(outputs.end_logits)\n",
    "answer = tokenizer.convert_tokens_to_string(tokenizer.convert_ids_to_tokens(inputs['input_ids'][0][start_pos:end_pos+1]))\n",
    "print(answer)"
   ]
  },
  {
   "cell_type": "code",
   "execution_count": null,
   "metadata": {},
   "outputs": [],
   "source": [
    "question = \"Benim başım neden ağrıyor?\"\n",
    "answer = \"Bu baş agrısının nedeni büyük olasılıkla strestir.\"\n",
    "\n",
    "out = tokenizer.encode(question)\n",
    "print(\"Lenght of out: \", len(out))\n",
    "print(out)\n",
    "print(tokenizer.convert_ids_to_tokens(out))\n"
   ]
  },
  {
   "cell_type": "code",
   "execution_count": null,
   "metadata": {},
   "outputs": [],
   "source": [
    "vocab = tokenizer.get_vocab()\n",
    "print(len(vocab))"
   ]
  },
  {
   "cell_type": "code",
   "execution_count": null,
   "metadata": {},
   "outputs": [],
   "source": [
    "import tiktoken\n",
    "\n",
    "enc = tiktoken.get_encoding(\"gpt2\")\n",
    "train_ids = enc.encode(question)\n",
    "print(\"Lenght of train_ids: \", len(train_ids))\n",
    "print(train_ids)\n",
    "print(enc.decode(train_ids))\n"
   ]
  }
 ],
 "metadata": {
  "kernelspec": {
   "display_name": "pytorch",
   "language": "python",
   "name": "python3"
  },
  "language_info": {
   "codemirror_mode": {
    "name": "ipython",
    "version": 3
   },
   "file_extension": ".py",
   "mimetype": "text/x-python",
   "name": "python",
   "nbconvert_exporter": "python",
   "pygments_lexer": "ipython3",
   "version": "3.10.11"
  },
  "orig_nbformat": 4
 },
 "nbformat": 4,
 "nbformat_minor": 2
}
