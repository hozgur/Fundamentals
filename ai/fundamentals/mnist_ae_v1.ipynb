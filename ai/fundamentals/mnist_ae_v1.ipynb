{
 "cells": [
  {
   "attachments": {},
   "cell_type": "markdown",
   "metadata": {},
   "source": [
    "## AutoEncoder Test with MNIST data v1"
   ]
  },
  {
   "cell_type": "code",
   "execution_count": 1,
   "metadata": {},
   "outputs": [
    {
     "name": "stdout",
     "output_type": "stream",
     "text": [
      "Pytorch version: 2.0.1+cu118\n"
     ]
    }
   ],
   "source": [
    "import torch\n",
    "import torch.nn as nn\n",
    "import torch.nn.functional as F\n",
    "from torchvision import datasets, transforms\n",
    "import matplotlib.pyplot as plt\n",
    "import numpy as np\n",
    "%matplotlib inline\n",
    "\n",
    "# Get CUDA if available\n",
    "device = torch.device(\"cuda\" if torch.cuda.is_available() else \"cpu\")\n",
    "# get pytorch version\n",
    "version = torch.__version__\n",
    "print(\"Pytorch version: {}\".format(version))"
   ]
  },
  {
   "attachments": {},
   "cell_type": "markdown",
   "metadata": {},
   "source": [
    "### Model Definition\n",
    "In first test I used 784-128-64-32 model but I saw it`s incapable to learn so I made bigger that 784-256-128-64-32\n",
    "\n",
    "### Loss and Optimizer\n",
    "Adam is ok. But small learning rate is important for big output data like 784\n",
    "\n",
    "Loss function is very IMPORTANT. I tried BCEWithLogitsLoss, CrossEntropyLoss but best MSELoss"
   ]
  },
  {
   "cell_type": "code",
   "execution_count": 2,
   "metadata": {},
   "outputs": [],
   "source": [
    "class Autoencoder(nn.Module):\n",
    "    def __init__(self, input_dim, encoding_dim):\n",
    "        super(Autoencoder, self).__init__()\n",
    "        self.encoder = nn.Sequential(\n",
    "            nn.Linear(input_dim, 256),\n",
    "            nn.ReLU(),\n",
    "            nn.Linear(256, 128),\n",
    "            nn.ReLU(),\n",
    "            nn.Linear(128, 64),\n",
    "            nn.ReLU(),\n",
    "            nn.Linear(64, encoding_dim)\n",
    "        )\n",
    "        self.decoder = nn.Sequential(\n",
    "            nn.Linear(encoding_dim, 64),\n",
    "            nn.ReLU(),\n",
    "            nn.Linear(64, 128),\n",
    "            nn.ReLU(),\n",
    "            nn.Linear(128, 256),\n",
    "            nn.ReLU(),\n",
    "            nn.Linear(256, input_dim),            \n",
    "            nn.Sigmoid()  # Use sigmoid activation for pixel values between 0 and 1\n",
    "        )\n",
    "\n",
    "    def forward(self, x):\n",
    "        encoded = self.encoder(x)\n",
    "        decoded = self.decoder(encoded)\n",
    "        return decoded\n",
    "    \n",
    "input_dim = 784  # Input dimension for MNIST images (28x28 pixels = 784)\n",
    "encoding_dim = 32  # Dimension of the encoded representation\n",
    "\n",
    "model = Autoencoder(input_dim, encoding_dim).to(device)\n",
    "criterion = nn.MSELoss()\n",
    "optimizer = torch.optim.Adam(model.parameters(), lr=0.0001)\n",
    "epoch = 0"
   ]
  },
  {
   "attachments": {},
   "cell_type": "markdown",
   "metadata": {},
   "source": [
    "Load the model from the file"
   ]
  },
  {
   "cell_type": "code",
   "execution_count": 32,
   "metadata": {},
   "outputs": [],
   "source": [
    "# load checkpoint\n",
    "# Define the paths for saving and loading checkpoints\n",
    "checkpoint_path = 'mnist_ae_v1_checkpoint.pth'\n",
    "try:\n",
    "    checkpoint = torch.load(checkpoint_path)\n",
    "    model.load_state_dict(checkpoint['model_state_dict'])\n",
    "    optimizer.load_state_dict(checkpoint['optimizer_state_dict'])\n",
    "    epoch = checkpoint['epoch']\n",
    "    loss = checkpoint['loss']\n",
    "except:\n",
    "    print(\"No checkpoint found\")\n"
   ]
  },
  {
   "attachments": {},
   "cell_type": "markdown",
   "metadata": {},
   "source": [
    "Load Dataset"
   ]
  },
  {
   "cell_type": "code",
   "execution_count": 4,
   "metadata": {},
   "outputs": [],
   "source": [
    "# Load MNIST dataset\n",
    "train_dataset = datasets.MNIST(root='./data', train=True, download=True)\n",
    "train_dataset.data = train_dataset.data.to(device)\n",
    "# Create dataloaders\n",
    "batch_size = 128"
   ]
  },
  {
   "cell_type": "code",
   "execution_count": 17,
   "metadata": {},
   "outputs": [],
   "source": [
    "# Copy Dataset to GPU with random batches\n",
    "batch_count = len(train_dataset) // batch_size\n",
    "print(\"Batch Count: {}\".format(batch_count))\n",
    "gpu_tensor = torch.Tensor(batch_count, batch_size,784).to(device)\n",
    "\n",
    "for i in range(batch_count):\n",
    "    gpu_tensor[i] = train_dataset.data[i*batch_size:(i+1)*batch_size].view(batch_size,784).to(device)\n",
    "    gpu_tensor[i] = gpu_tensor[i] / 255.0\n"
   ]
  },
  {
   "cell_type": "code",
   "execution_count": 33,
   "metadata": {},
   "outputs": [
    {
     "name": "stdout",
     "output_type": "stream",
     "text": [
      "Random 10 images from dataset and output:\n"
     ]
    },
    {
     "data": {
      "image/png": "[encoded data removed]",
      "text/plain": [
       "<Figure size 2500x400 with 10 Axes>"
      ]
     },
     "metadata": {},
     "output_type": "display_data"
    },
    {
     "data": {
      "image/png": "[encoded data removed]",
      "text/plain": [
       "<Figure size 2500x400 with 10 Axes>"
      ]
     },
     "metadata": {},
     "output_type": "display_data"
    }
   ],
   "source": [
    "def plot_images(images):\n",
    "    n_images = len(images)\n",
    "    rows = 1\n",
    "    cols = n_images\n",
    "    fig = plt.figure(figsize=(25, 4))\n",
    "    for i in range(rows*cols):\n",
    "        ax = fig.add_subplot(rows, cols, i+1)\n",
    "        ax.imshow(images[i].view(28,28).cpu().numpy(), cmap='gray')\n",
    "        ax.axis('off')\n",
    "\n",
    "# Plot the first 10 images\n",
    "\n",
    "print('Random 10 images from dataset and output:')\n",
    "rn = np.random.randint(0,batch_count)\n",
    "plot_images(gpu_tensor[rn][10:20])\n",
    "outputs = model(gpu_tensor[rn][10:20])\n",
    "plot_images(outputs.cpu().detach())"
   ]
  },
  {
   "attachments": {},
   "cell_type": "markdown",
   "metadata": {},
   "source": [
    "Training"
   ]
  },
  {
   "cell_type": "code",
   "execution_count": 29,
   "metadata": {},
   "outputs": [
    {
     "name": "stdout",
     "output_type": "stream",
     "text": [
      "Epoch [200/248], Loss: 0.0078, Time: 2.7704 sec\n",
      "Epoch [210/248], Loss: 0.0076, Time: 9.2375 sec\n",
      "Epoch [220/248], Loss: 0.0075, Time: 9.2285 sec\n",
      "Epoch [230/248], Loss: 0.0073, Time: 9.2397 sec\n",
      "Epoch [240/248], Loss: 0.0072, Time: 9.2496 sec\n",
      "Finished Training. last epoch = 247\n"
     ]
    }
   ],
   "source": [
    "# Training loop\n",
    "import time\n",
    "num_epochs = 50\n",
    "end_epoch = epoch + num_epochs\n",
    "\n",
    "# Shuffle tensor, not using now\n",
    "idx = torch.arange(batch_count)\n",
    "shuffled_idx = idx[torch.randperm(batch_count)]\n",
    "\n",
    "st_time = time.time()\n",
    "for ep in range(epoch,end_epoch):\n",
    "    epoch = ep + 1  \n",
    "    for i in range(batch_count):\n",
    "        optimizer.zero_grad()\n",
    "        inputs = gpu_tensor[i]\n",
    "        outputs = model(inputs)\n",
    "        loss = criterion(outputs, inputs)\n",
    "        loss.backward()\n",
    "        optimizer.step()    \n",
    "    if (ep+1) % 10 == 0:\n",
    "        e_time = time.time()\n",
    "        print(f\"Epoch [{ep+1}/{end_epoch+1}], Loss: {loss.item():.4f}, Time: {e_time-st_time:.4f} sec\")\n",
    "        st_time = time.time()\n",
    "print('Finished Training. last epoch = {}'.format(epoch))"
   ]
  },
  {
   "attachments": {},
   "cell_type": "markdown",
   "metadata": {},
   "source": [
    "Save the Checkpoint"
   ]
  },
  {
   "cell_type": "code",
   "execution_count": 31,
   "metadata": {},
   "outputs": [],
   "source": [
    "# Save checkpoint\n",
    "torch.save({\n",
    "    'epoch': epoch + 1,\n",
    "    'model_state_dict': model.state_dict(),\n",
    "    'optimizer_state_dict': optimizer.state_dict(),\n",
    "    'loss': loss.item(),\n",
    "}, checkpoint_path)"
   ]
  }
 ],
 "metadata": {
  "kernelspec": {
   "display_name": "stable",
   "language": "python",
   "name": "python3"
  },
  "language_info": {
   "codemirror_mode": {
    "name": "ipython",
    "version": 3
   },
   "file_extension": ".py",
   "mimetype": "text/x-python",
   "name": "python",
   "nbconvert_exporter": "python",
   "pygments_lexer": "ipython3",
   "version": "3.10.11"
  },
  "orig_nbformat": 4
 },
 "nbformat": 4,
 "nbformat_minor": 2
}
